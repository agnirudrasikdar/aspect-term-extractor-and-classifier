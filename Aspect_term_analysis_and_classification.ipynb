{
 "cells": [
  {
   "cell_type": "code",
   "execution_count": 1,
   "metadata": {},
   "outputs": [],
   "source": [
    "import xmltodict\n",
    "import pandas as pd\n",
    "import matplotlib.pylab as plt\n",
    "import seaborn as sns\n",
    "import spacy\n",
    "%matplotlib inline\n",
    "\n",
    "## Imports from external classes\n",
    "from classes.Bio_labeller import get_bio\n",
    "from classes.Adding_features import add_feature\n",
    "from classes.Sentence_iterator import iterate_sentence\n",
    "from classes.Data_loader import load_data\n",
    "from classes.Featuring import sentence_to_features,sentence_to_labels,sentence_to_tokens,word_to_features"
   ]
  },
  {
   "cell_type": "code",
   "execution_count": 2,
   "metadata": {},
   "outputs": [],
   "source": [
    "'''Using spacy library since it is the industry standard most powerful \n",
    "open-source library with multitude apis for various text processings '''\n",
    "nlp = spacy.load('en_core_web_lg')"
   ]
  },
  {
   "cell_type": "code",
   "execution_count": 3,
   "metadata": {},
   "outputs": [],
   "source": [
    "training_dataset = \"/Users/agni/Desktop/pmi/aspect-term-extractor-and-classifier/datasets/Laptops_Train_v2.xml\"\n",
    "testing_dataset = \"/Users/agni/Desktop/pmi/aspect-term-extractor-and-classifier/datasets/Laptops_Test_Gold.xml\""
   ]
  },
  {
   "cell_type": "code",
   "execution_count": 4,
   "metadata": {},
   "outputs": [],
   "source": [
    "nlp = spacy.load('en_core_web_lg')"
   ]
  },
  {
   "cell_type": "code",
   "execution_count": 5,
   "metadata": {},
   "outputs": [],
   "source": [
    "training_df = add_feature(load_data(training_dataset, nlp))"
   ]
  },
  {
   "cell_type": "code",
   "execution_count": 6,
   "metadata": {},
   "outputs": [
    {
     "data": {
      "text/plain": [
       "<matplotlib.axes._subplots.AxesSubplot at 0x13413b668>"
      ]
     },
     "execution_count": 6,
     "metadata": {},
     "output_type": "execute_result"
    },
    {
     "data": {
      "image/png": "[encoded data removed]",
      "text/plain": [
       "<matplotlib.figure.Figure at 0x134154e80>"
      ]
     },
     "metadata": {},
     "output_type": "display_data"
    }
   ],
   "source": [
    "sns.heatmap(training_df.corr())"
   ]
  },
  {
   "cell_type": "code",
   "execution_count": 7,
   "metadata": {},
   "outputs": [
    {
     "data": {
      "text/html": [
       "<div>\n",
       "<style>\n",
       "    .dataframe thead tr:only-child th {\n",
       "        text-align: right;\n",
       "    }\n",
       "\n",
       "    .dataframe thead th {\n",
       "        text-align: left;\n",
       "    }\n",
       "\n",
       "    .dataframe tbody tr th {\n",
       "        vertical-align: top;\n",
       "    }\n",
       "</style>\n",
       "<table border=\"1\" class=\"dataframe\">\n",
       "  <thead>\n",
       "    <tr style=\"text-align: right;\">\n",
       "      <th></th>\n",
       "      <th>id</th>\n",
       "      <th>token</th>\n",
       "      <th>label</th>\n",
       "      <th>all_aspects</th>\n",
       "      <th>text</th>\n",
       "      <th>bin_label</th>\n",
       "      <th>token_num</th>\n",
       "      <th>loc</th>\n",
       "      <th>len</th>\n",
       "      <th>pos</th>\n",
       "      <th>lemma</th>\n",
       "      <th>like_num</th>\n",
       "      <th>is_quote</th>\n",
       "      <th>is_head</th>\n",
       "      <th>is_digit</th>\n",
       "      <th>is_upper</th>\n",
       "      <th>is_punct</th>\n",
       "      <th>is_start</th>\n",
       "    </tr>\n",
       "  </thead>\n",
       "  <tbody>\n",
       "    <tr>\n",
       "      <th>0</th>\n",
       "      <td>2339</td>\n",
       "      <td>I</td>\n",
       "      <td>O</td>\n",
       "      <td>[cord, battery life]</td>\n",
       "      <td>I charge it at night and skip taking the cord ...</td>\n",
       "      <td>O</td>\n",
       "      <td>19</td>\n",
       "      <td>0</td>\n",
       "      <td>1</td>\n",
       "      <td>PRON</td>\n",
       "      <td>-PRON-</td>\n",
       "      <td>False</td>\n",
       "      <td>False</td>\n",
       "      <td>False</td>\n",
       "      <td>False</td>\n",
       "      <td>True</td>\n",
       "      <td>False</td>\n",
       "      <td>True</td>\n",
       "    </tr>\n",
       "    <tr>\n",
       "      <th>1</th>\n",
       "      <td>2339</td>\n",
       "      <td>charge</td>\n",
       "      <td>O</td>\n",
       "      <td>[cord, battery life]</td>\n",
       "      <td>I charge it at night and skip taking the cord ...</td>\n",
       "      <td>O</td>\n",
       "      <td>19</td>\n",
       "      <td>1</td>\n",
       "      <td>6</td>\n",
       "      <td>VERB</td>\n",
       "      <td>charge</td>\n",
       "      <td>False</td>\n",
       "      <td>False</td>\n",
       "      <td>True</td>\n",
       "      <td>False</td>\n",
       "      <td>False</td>\n",
       "      <td>False</td>\n",
       "      <td>False</td>\n",
       "    </tr>\n",
       "  </tbody>\n",
       "</table>\n",
       "</div>"
      ],
      "text/plain": [
       "     id   token label           all_aspects  \\\n",
       "0  2339       I     O  [cord, battery life]   \n",
       "1  2339  charge     O  [cord, battery life]   \n",
       "\n",
       "                                                text bin_label  token_num  \\\n",
       "0  I charge it at night and skip taking the cord ...         O         19   \n",
       "1  I charge it at night and skip taking the cord ...         O         19   \n",
       "\n",
       "   loc  len   pos   lemma  like_num  is_quote  is_head  is_digit  is_upper  \\\n",
       "0    0    1  PRON  -PRON-     False     False    False     False      True   \n",
       "1    1    6  VERB  charge     False     False     True     False     False   \n",
       "\n",
       "   is_punct  is_start  \n",
       "0     False      True  \n",
       "1     False     False  "
      ]
     },
     "execution_count": 7,
     "metadata": {},
     "output_type": "execute_result"
    }
   ],
   "source": [
    "training_df.head(2)"
   ]
  },
  {
   "cell_type": "code",
   "execution_count": 8,
   "metadata": {
    "scrolled": true
   },
   "outputs": [
    {
     "name": "stdout",
     "output_type": "stream",
     "text": [
      " Frequency of occurence of aspect term in sentences\n"
     ]
    },
    {
     "data": {
      "text/html": [
       "<div>\n",
       "<style>\n",
       "    .dataframe thead tr:only-child th {\n",
       "        text-align: right;\n",
       "    }\n",
       "\n",
       "    .dataframe thead th {\n",
       "        text-align: left;\n",
       "    }\n",
       "\n",
       "    .dataframe tbody tr th {\n",
       "        vertical-align: top;\n",
       "    }\n",
       "</style>\n",
       "<table border=\"1\" class=\"dataframe\">\n",
       "  <thead>\n",
       "    <tr style=\"text-align: right;\">\n",
       "      <th></th>\n",
       "      <th>id</th>\n",
       "    </tr>\n",
       "    <tr>\n",
       "      <th>label</th>\n",
       "      <th></th>\n",
       "    </tr>\n",
       "  </thead>\n",
       "  <tbody>\n",
       "    <tr>\n",
       "      <th>0</th>\n",
       "      <td>1559</td>\n",
       "    </tr>\n",
       "    <tr>\n",
       "      <th>1</th>\n",
       "      <td>930</td>\n",
       "    </tr>\n",
       "    <tr>\n",
       "      <th>2</th>\n",
       "      <td>352</td>\n",
       "    </tr>\n",
       "    <tr>\n",
       "      <th>3</th>\n",
       "      <td>140</td>\n",
       "    </tr>\n",
       "    <tr>\n",
       "      <th>4</th>\n",
       "      <td>43</td>\n",
       "    </tr>\n",
       "    <tr>\n",
       "      <th>5</th>\n",
       "      <td>10</td>\n",
       "    </tr>\n",
       "    <tr>\n",
       "      <th>6</th>\n",
       "      <td>6</td>\n",
       "    </tr>\n",
       "    <tr>\n",
       "      <th>7</th>\n",
       "      <td>3</td>\n",
       "    </tr>\n",
       "    <tr>\n",
       "      <th>8</th>\n",
       "      <td>1</td>\n",
       "    </tr>\n",
       "    <tr>\n",
       "      <th>13</th>\n",
       "      <td>1</td>\n",
       "    </tr>\n",
       "  </tbody>\n",
       "</table>\n",
       "</div>"
      ],
      "text/plain": [
       "         id\n",
       "label      \n",
       "0      1559\n",
       "1       930\n",
       "2       352\n",
       "3       140\n",
       "4        43\n",
       "5        10\n",
       "6         6\n",
       "7         3\n",
       "8         1\n",
       "13        1"
      ]
     },
     "execution_count": 8,
     "metadata": {},
     "output_type": "execute_result"
    }
   ],
   "source": [
    "print(\" Frequency of occurence of aspect term in sentences\")\n",
    "count_aspect_term = lambda labels: len([l for l in labels if l==\"B\" ])\n",
    "label_count = training_df.groupby(\"id\").agg({\"label\": count_aspect_term}).reset_index()\n",
    "label_count.groupby(\"label\").count()\n"
   ]
  },
  {
   "cell_type": "code",
   "execution_count": 9,
   "metadata": {},
   "outputs": [
    {
     "data": {
      "text/plain": [
       "<matplotlib.text.Text at 0x1213db278>"
      ]
     },
     "execution_count": 9,
     "metadata": {},
     "output_type": "execute_result"
    },
    {
     "data": {
      "image/png": "[encoded data removed]",
      "text/plain": [
       "<matplotlib.figure.Figure at 0x13873f630>"
      ]
     },
     "metadata": {},
     "output_type": "display_data"
    }
   ],
   "source": [
    "fig_aspect_term_distribution = label_count.groupby(\"label\").count().plot.bar()\n",
    "fig_aspect_term_distribution.set_title(\"Frequency of aspect terms per sentence\")\n",
    "fig_aspect_term_distribution.set_ylabel(\"Number of sentences\")\n",
    "fig_aspect_term_distribution.set_xlabel(\"Number of aspect terms\")"
   ]
  },
  {
   "cell_type": "markdown",
   "metadata": {},
   "source": [
    "The above graph shows the distribution spread of the occurence of aspect terms in the training dataset. It is clearly visible\n",
    "that majority of the sentences are without an aspect term. Only around 1487 sentences out of 3045 sentences, ie, 48.8%\n",
    "sentences have the occurence of an aspect term in them. "
   ]
  },
  {
   "cell_type": "markdown",
   "metadata": {},
   "source": [
    "##### We get to see a sentence having 13 aspect terms. Lets see what are the terms and the what is the sentence"
   ]
  },
  {
   "cell_type": "code",
   "execution_count": 10,
   "metadata": {},
   "outputs": [],
   "source": [
    "id_labels = label_count[label_count.label==13][\"id\"].values[0]\n",
    "row = training_df[training_df.id==id_labels].head(3)[[\"text\", \"all_aspects\"]]"
   ]
  },
  {
   "cell_type": "code",
   "execution_count": 11,
   "metadata": {},
   "outputs": [
    {
     "name": "stdout",
     "output_type": "stream",
     "text": [
      "The text is :: \n",
      "\n"
     ]
    },
    {
     "data": {
      "text/plain": [
       "'There are several programs for school or office use (Pages, Numbers, Keynote, etc.), music (Garageband), photo management (Photo Booth, iPhoto), video-editing or movie-making (iMovie), etc.'"
      ]
     },
     "execution_count": 11,
     "metadata": {},
     "output_type": "execute_result"
    }
   ],
   "source": [
    "print(\"The text is :: \\n\")\n",
    "row.iloc[0][\"text\"]"
   ]
  },
  {
   "cell_type": "code",
   "execution_count": 12,
   "metadata": {},
   "outputs": [
    {
     "name": "stdout",
     "output_type": "stream",
     "text": [
      "The aspect terms are :: \n",
      "\n"
     ]
    },
    {
     "data": {
      "text/plain": [
       "['programs',\n",
       " 'Garageband',\n",
       " 'Photo Booth',\n",
       " 'iPhoto',\n",
       " 'iMovie',\n",
       " 'video-editing',\n",
       " 'movie-making',\n",
       " 'photo management',\n",
       " 'music',\n",
       " 'Pages',\n",
       " 'Numbers',\n",
       " 'Keynote',\n",
       " 'school or office use']"
      ]
     },
     "execution_count": 12,
     "metadata": {},
     "output_type": "execute_result"
    }
   ],
   "source": [
    "print(\"The aspect terms are :: \\n\")\n",
    "row.iloc[0][\"all_aspects\"]"
   ]
  },
  {
   "cell_type": "markdown",
   "metadata": {},
   "source": [
    "### Building the model for classification"
   ]
  },
  {
   "cell_type": "code",
   "execution_count": 13,
   "metadata": {},
   "outputs": [],
   "source": [
    "train_sentence_aspects_tuple = list(iterate_sentence(training_dataset, nlp))\n",
    "test_sentence_aspects_tupe = list(iterate_sentence(testing_dataset, nlp))\n",
    "train_sentence = [list(zip(sentence[0], sentence[4])) for sentence in train_sentence_aspects_tuple]\n",
    "test_sentence = [list(zip(sentence[0], sentence[4])) for sentence in test_sentence_aspects_tupe]"
   ]
  },
  {
   "cell_type": "code",
   "execution_count": 14,
   "metadata": {},
   "outputs": [],
   "source": [
    "X_train = [sentence_to_features(sentence) for sentence in train_sentence]\n",
    "y_train = [sentence_to_labels(sentence) for sentence in train_sentence]\n",
    "\n",
    "X_test = [sentence_to_features(sentence) for sentence in test_sentence]\n",
    "y_test = [sentence_to_labels(sentence) for sentence in test_sentence]"
   ]
  },
  {
   "cell_type": "markdown",
   "metadata": {},
   "source": [
    "### Importing machine learning models for training and testing"
   ]
  },
  {
   "cell_type": "code",
   "execution_count": 15,
   "metadata": {},
   "outputs": [],
   "source": [
    "from sklearn.ensemble import RandomForestClassifier\n",
    "from sklearn.naive_bayes import GaussianNB\n",
    "from sklearn.tree import DecisionTreeClassifier\n",
    "from sklearn.ensemble import VotingClassifier\n",
    "from sklearn_crfsuite import CRF"
   ]
  },
  {
   "cell_type": "markdown",
   "metadata": {},
   "source": [
    "### Importing libraries for evaluation and validation of the model testing"
   ]
  },
  {
   "cell_type": "code",
   "execution_count": 16,
   "metadata": {},
   "outputs": [],
   "source": [
    "from sklearn_crfsuite import metrics\n",
    "from sklearn.model_selection import cross_val_score"
   ]
  },
  {
   "cell_type": "code",
   "execution_count": 17,
   "metadata": {},
   "outputs": [],
   "source": [
    "rf = RandomForestClassifier()\n",
    "gb = GaussianNB()\n",
    "ds = DecisionTreeClassifier()"
   ]
  },
  {
   "cell_type": "markdown",
   "metadata": {},
   "source": [
    "### Testing with Conditional Random Field\n",
    "\n",
    "This model has been chosen based on the following article: \n",
    "http://www.albertauyeung.com/post/python-sequence-labelling-with-crf/"
   ]
  },
  {
   "cell_type": "code",
   "execution_count": 18,
   "metadata": {},
   "outputs": [],
   "source": [
    "crf = CRF(\n",
    "    algorithm='lbfgs',\n",
    "    c1=1.0,\n",
    "    c2=1.0,\n",
    "    max_iterations=100,\n",
    "    all_possible_transitions=True\n",
    ")"
   ]
  },
  {
   "cell_type": "code",
   "execution_count": 19,
   "metadata": {},
   "outputs": [
    {
     "data": {
      "text/plain": [
       "CRF(algorithm='lbfgs', all_possible_states=None,\n",
       "  all_possible_transitions=True, averaging=None, c=None, c1=1.0, c2=1.0,\n",
       "  calibration_candidates=None, calibration_eta=None,\n",
       "  calibration_max_trials=None, calibration_rate=None,\n",
       "  calibration_samples=None, delta=None, epsilon=None, error_sensitive=None,\n",
       "  gamma=None, keep_tempfiles=None, linesearch=None, max_iterations=100,\n",
       "  max_linesearch=None, min_freq=None, model_filename=None,\n",
       "  num_memories=None, pa_type=None, period=None, trainer_cls=None,\n",
       "  variance=None, verbose=False)"
      ]
     },
     "execution_count": 19,
     "metadata": {},
     "output_type": "execute_result"
    }
   ],
   "source": [
    "crf.fit(X_train, y_train)"
   ]
  },
  {
   "cell_type": "code",
   "execution_count": 20,
   "metadata": {},
   "outputs": [],
   "source": [
    "y_pred_crf = crf.predict(X_test)"
   ]
  },
  {
   "cell_type": "code",
   "execution_count": 21,
   "metadata": {},
   "outputs": [
    {
     "name": "stdout",
     "output_type": "stream",
     "text": [
      "             precision    recall  f1-score   support\n",
      "\n",
      "          B       0.85      0.66      0.74       652\n",
      "          I       0.90      0.61      0.73       462\n",
      "\n",
      "avg / total       0.87      0.64      0.74      1114\n",
      "\n"
     ]
    }
   ],
   "source": [
    "print(metrics.flat_classification_report(\n",
    "    y_test, y_pred_crf, labels=[\"B\", \"I\" ], digits=2 ))"
   ]
  },
  {
   "cell_type": "code",
   "execution_count": 22,
   "metadata": {},
   "outputs": [],
   "source": [
    "all_features = set([attributes for (attributes, values) in crf.state_features_])"
   ]
  },
  {
   "cell_type": "code",
   "execution_count": 23,
   "metadata": {},
   "outputs": [],
   "source": [
    "from pycrfsuite import ItemSequence\n",
    "def vectorize_sentences(sentence, feature_index):\n",
    "    sentence_features = ItemSequence(sentence).items()\n",
    "    result = []\n",
    "    for token_feature in sentence_features:\n",
    "        result.append([token_feature.get(feature, 0) for feature in feature_index])\n",
    "    return result"
   ]
  },
  {
   "cell_type": "code",
   "execution_count": 24,
   "metadata": {},
   "outputs": [],
   "source": [
    "def flatten(sent):\n",
    "    return [t for tokens in sent for t in tokens]"
   ]
  },
  {
   "cell_type": "code",
   "execution_count": 25,
   "metadata": {},
   "outputs": [],
   "source": [
    "feature_index = sorted(list(all_features))"
   ]
  },
  {
   "cell_type": "code",
   "execution_count": 26,
   "metadata": {},
   "outputs": [],
   "source": [
    "X_train_vec = [vectorize_sentences(feature_dict, feature_index) for feature_dict in X_train]\n",
    "X_test_vec = [vectorize_sentences(feature_dict, feature_index) for feature_dict in X_test]"
   ]
  },
  {
   "cell_type": "code",
   "execution_count": 27,
   "metadata": {},
   "outputs": [],
   "source": [
    "X_train_vec_flat = flatten(X_train_vec)\n",
    "X_test_vec_flat = flatten(X_test_vec)\n",
    "\n",
    "y_train_flat = flatten(y_train)\n",
    "y_test_flat = flatten(y_test)"
   ]
  },
  {
   "cell_type": "markdown",
   "metadata": {},
   "source": [
    "### Testing with Random Forest"
   ]
  },
  {
   "cell_type": "code",
   "execution_count": 28,
   "metadata": {},
   "outputs": [
    {
     "data": {
      "text/plain": [
       "RandomForestClassifier(bootstrap=True, class_weight=None, criterion='gini',\n",
       "            max_depth=None, max_features='auto', max_leaf_nodes=None,\n",
       "            min_impurity_decrease=0.0, min_impurity_split=None,\n",
       "            min_samples_leaf=1, min_samples_split=2,\n",
       "            min_weight_fraction_leaf=0.0, n_estimators=10, n_jobs=1,\n",
       "            oob_score=False, random_state=None, verbose=0,\n",
       "            warm_start=False)"
      ]
     },
     "execution_count": 28,
     "metadata": {},
     "output_type": "execute_result"
    }
   ],
   "source": [
    "rf.fit(X_train_vec_flat, y_train_flat)"
   ]
  },
  {
   "cell_type": "code",
   "execution_count": 29,
   "metadata": {},
   "outputs": [],
   "source": [
    "random_forest_y_pred = rf.predict(X_test_vec_flat)"
   ]
  },
  {
   "cell_type": "code",
   "execution_count": 30,
   "metadata": {},
   "outputs": [
    {
     "name": "stdout",
     "output_type": "stream",
     "text": [
      "             precision    recall  f1-score   support\n",
      "\n",
      "          B       0.72      0.65      0.69       652\n",
      "          I       0.76      0.35      0.48       462\n",
      "\n",
      "avg / total       0.74      0.53      0.60      1114\n",
      "\n"
     ]
    }
   ],
   "source": [
    "print(metrics.flat_classification_report(\n",
    "    y_test, random_forest_y_pred, labels=[\"B\", \"I\"], digits=2))"
   ]
  },
  {
   "cell_type": "markdown",
   "metadata": {},
   "source": [
    "### Testing with Naive Bayes"
   ]
  },
  {
   "cell_type": "code",
   "execution_count": 31,
   "metadata": {},
   "outputs": [
    {
     "data": {
      "text/plain": [
       "GaussianNB(priors=None)"
      ]
     },
     "execution_count": 31,
     "metadata": {},
     "output_type": "execute_result"
    }
   ],
   "source": [
    "gb.fit(X_train_vec_flat, y_train_flat)"
   ]
  },
  {
   "cell_type": "code",
   "execution_count": 32,
   "metadata": {},
   "outputs": [],
   "source": [
    "naive_bayes_y_pred = gb.predict(X_test_vec_flat)"
   ]
  },
  {
   "cell_type": "code",
   "execution_count": 33,
   "metadata": {},
   "outputs": [
    {
     "name": "stdout",
     "output_type": "stream",
     "text": [
      "             precision    recall  f1-score   support\n",
      "\n",
      "          B       0.17      0.94      0.29       652\n",
      "          I       0.23      0.55      0.33       462\n",
      "\n",
      "avg / total       0.19      0.78      0.30      1114\n",
      "\n"
     ]
    }
   ],
   "source": [
    "print(metrics.flat_classification_report(\n",
    "    y_test, naive_bayes_y_pred, labels=[\"B\", \"I\"], digits=2))"
   ]
  },
  {
   "cell_type": "markdown",
   "metadata": {},
   "source": [
    "### Testing with decision tree"
   ]
  },
  {
   "cell_type": "code",
   "execution_count": 34,
   "metadata": {},
   "outputs": [
    {
     "data": {
      "text/plain": [
       "DecisionTreeClassifier(class_weight=None, criterion='gini', max_depth=None,\n",
       "            max_features=None, max_leaf_nodes=None,\n",
       "            min_impurity_decrease=0.0, min_impurity_split=None,\n",
       "            min_samples_leaf=1, min_samples_split=2,\n",
       "            min_weight_fraction_leaf=0.0, presort=False, random_state=None,\n",
       "            splitter='best')"
      ]
     },
     "execution_count": 34,
     "metadata": {},
     "output_type": "execute_result"
    }
   ],
   "source": [
    "ds.fit(X_train_vec_flat, y_train_flat)"
   ]
  },
  {
   "cell_type": "code",
   "execution_count": 35,
   "metadata": {},
   "outputs": [],
   "source": [
    "decision_tree_y_pred = ds.predict(X_test_vec_flat)"
   ]
  },
  {
   "cell_type": "code",
   "execution_count": 36,
   "metadata": {},
   "outputs": [
    {
     "name": "stdout",
     "output_type": "stream",
     "text": [
      "             precision    recall  f1-score   support\n",
      "\n",
      "          B       0.67      0.64      0.66       652\n",
      "          I       0.67      0.43      0.53       462\n",
      "\n",
      "avg / total       0.67      0.56      0.60      1114\n",
      "\n"
     ]
    }
   ],
   "source": [
    "print(metrics.flat_classification_report(\n",
    "    y_test, decision_tree_y_pred, labels=[\"B\", \"I\"], digits=2))"
   ]
  },
  {
   "cell_type": "markdown",
   "metadata": {},
   "source": [
    "### Using ensemble approach"
   ]
  },
  {
   "cell_type": "code",
   "execution_count": 37,
   "metadata": {},
   "outputs": [],
   "source": [
    "vote_stacking = VotingClassifier(estimators=[\n",
    "               ('rf', RandomForestClassifier()), \n",
    "                ('ds', DecisionTreeClassifier()), \n",
    "                 ],\n",
    "    voting='hard') "
   ]
  },
  {
   "cell_type": "code",
   "execution_count": 38,
   "metadata": {},
   "outputs": [
    {
     "data": {
      "text/plain": [
       "VotingClassifier(estimators=[('rf', RandomForestClassifier(bootstrap=True, class_weight=None, criterion='gini',\n",
       "            max_depth=None, max_features='auto', max_leaf_nodes=None,\n",
       "            min_impurity_decrease=0.0, min_impurity_split=None,\n",
       "            min_samples_leaf=1, min_samples_split=2,\n",
       "            min_we...      min_weight_fraction_leaf=0.0, presort=False, random_state=None,\n",
       "            splitter='best'))],\n",
       "         flatten_transform=None, n_jobs=1, voting='hard', weights=None)"
      ]
     },
     "execution_count": 38,
     "metadata": {},
     "output_type": "execute_result"
    }
   ],
   "source": [
    "vote_stacking.fit(X_train_vec_flat, y_train_flat)"
   ]
  },
  {
   "cell_type": "code",
   "execution_count": 39,
   "metadata": {},
   "outputs": [],
   "source": [
    "vote_stacking_y_pred = vote_stacking.predict(X_test_vec_flat)"
   ]
  },
  {
   "cell_type": "code",
   "execution_count": 40,
   "metadata": {},
   "outputs": [
    {
     "name": "stdout",
     "output_type": "stream",
     "text": [
      "             precision    recall  f1-score   support\n",
      "\n",
      "          B       0.64      0.72      0.68       652\n",
      "          I       0.67      0.41      0.51       462\n",
      "\n",
      "avg / total       0.65      0.59      0.61      1114\n",
      "\n"
     ]
    }
   ],
   "source": [
    "print(metrics.flat_classification_report(\n",
    "    y_test, vote_stacking_y_pred, labels=[\"B\", \"I\"], digits=2))"
   ]
  },
  {
   "cell_type": "markdown",
   "metadata": {},
   "source": [
    "### Estimating performance using K-Fold Cross Validation"
   ]
  },
  {
   "cell_type": "code",
   "execution_count": 41,
   "metadata": {},
   "outputs": [
    {
     "name": "stdout",
     "output_type": "stream",
     "text": [
      "[0.93830895948898974, 0.94301427425734052, 0.9457892208665577, 0.94629208971590839, 0.94704868660319474, 0.94654393404881554, 0.94847723598818723, 0.94897865889471467, 0.94847541267002122]\n"
     ]
    },
    {
     "data": {
      "text/plain": [
       "<matplotlib.text.Text at 0x11dce97f0>"
      ]
     },
     "execution_count": 41,
     "metadata": {},
     "output_type": "execute_result"
    },
    {
     "data": {
      "image/png": "[encoded data removed]",
      "text/plain": [
       "<matplotlib.figure.Figure at 0x11b127dd8>"
      ]
     },
     "metadata": {},
     "output_type": "display_data"
    }
   ],
   "source": [
    "cv_range =  list(range(2, 11))\n",
    "k_scores = []\n",
    "for cv in cv_range:\n",
    "    scores = cross_val_score(rf ,X_test_vec_flat, y_test_flat, cv=cv, scoring='accuracy')\n",
    "    k_scores.append(scores.mean())\n",
    "    \n",
    "print(k_scores)\n",
    "plt.plot(cv_range, k_scores)\n",
    "plt.xlabel('Value of CV in Cross Val')\n",
    "plt.ylabel('Cross Validated Accuracy')\n",
    "plt.title('Accuracy estimation using Cross Validation with Random Forest')"
   ]
  },
  {
   "cell_type": "code",
   "execution_count": 42,
   "metadata": {},
   "outputs": [
    {
     "name": "stdout",
     "output_type": "stream",
     "text": [
      "[0.92427298705664818, 0.9304905460087175, 0.93326558464677056, 0.93208662677226428, 0.93595370492719432, 0.93612218202012054, 0.93679364973068235, 0.93687405766589293, 0.93544531883570359]\n"
     ]
    },
    {
     "data": {
      "text/plain": [
       "<matplotlib.text.Text at 0x120050eb8>"
      ]
     },
     "execution_count": 42,
     "metadata": {},
     "output_type": "execute_result"
    },
    {
     "data": {
      "image/png": "[encoded data removed]",
      "text/plain": [
       "<matplotlib.figure.Figure at 0x11b127550>"
      ]
     },
     "metadata": {},
     "output_type": "display_data"
    }
   ],
   "source": [
    "cv_range =  list(range(2, 11))\n",
    "k_scores = []\n",
    "for cv in cv_range:\n",
    "    scores = cross_val_score(vote_stacking ,X_test_vec_flat, y_test_flat, cv=cv, scoring='accuracy')\n",
    "    k_scores.append(scores.mean())\n",
    "    \n",
    "print(k_scores)\n",
    "plt.plot(cv_range, k_scores)\n",
    "plt.xlabel('Value of CV in Cross Val')\n",
    "plt.ylabel('Cross Validated Accuracy')\n",
    "plt.title('Accuracy estimation using Cross Validation with Ensemble Methods')"
   ]
  },
  {
   "cell_type": "code",
   "execution_count": 43,
   "metadata": {},
   "outputs": [
    {
     "name": "stdout",
     "output_type": "stream",
     "text": [
      "[0.95288516161842463, 0.9591810787931726, 0.9574535914772504, 0.96011828966019908, 0.96151720497300575, 0.95887499233056306, 0.96044152810671424, 0.95963458732616325, 0.95862017858922766]\n"
     ]
    },
    {
     "data": {
      "text/plain": [
       "<matplotlib.text.Text at 0x120a492e8>"
      ]
     },
     "execution_count": 43,
     "metadata": {},
     "output_type": "execute_result"
    },
    {
     "data": {
      "image/png": "[encoded data removed]",
      "text/plain": [
       "<matplotlib.figure.Figure at 0x120073c50>"
      ]
     },
     "metadata": {},
     "output_type": "display_data"
    }
   ],
   "source": [
    "cv_range =  list(range(2, 11))\n",
    "k_scores = []\n",
    "for cv in cv_range:\n",
    "    scores = cross_val_score(crf ,X_test, y_test, cv=cv)\n",
    "    k_scores.append(scores.mean())\n",
    "    \n",
    "print(k_scores)\n",
    "plt.plot(cv_range, k_scores)\n",
    "plt.xlabel('Value of CV in Cross Val')\n",
    "plt.ylabel('Cross Validated Accuracy')\n",
    "plt.title('Accuracy estimation using Cross Validation with Conditional Random Field Method')"
   ]
  },
  {
   "cell_type": "code",
   "execution_count": null,
   "metadata": {},
   "outputs": [],
   "source": []
  }
 ],
 "metadata": {
  "kernelspec": {
   "display_name": "Python 3",
   "language": "python",
   "name": "python3"
  },
  "language_info": {
   "codemirror_mode": {
    "name": "ipython",
    "version": 3
   },
   "file_extension": ".py",
   "mimetype": "text/x-python",
   "name": "python",
   "nbconvert_exporter": "python",
   "pygments_lexer": "ipython3",
   "version": "3.6.3"
  }
 },
 "nbformat": 4,
 "nbformat_minor": 2
}
